{
 "cells": [
  {
   "cell_type": "code",
   "execution_count": 1,
   "id": "74704a29",
   "metadata": {},
   "outputs": [],
   "source": [
    "import requests, json\n",
    "from pyrhd import Utils as UTL\n",
    "from bs4 import BeautifulSoup\n",
    "import bs4.element as Ele\n",
    "from threading import BoundedSemaphore\n",
    "parseCSSSelector = UTL.bs4.parseCSSSelector\n",
    "sourceCode= UTL.requests.sourceCode"
   ]
  },
  {
   "cell_type": "code",
   "execution_count": 11,
   "id": "624c1b6e",
   "metadata": {},
   "outputs": [],
   "source": [
    "COOKIES = \"user_id=YUFMU1lOck5oUkNsQlIzay92eHI2QT09LS0xeUtBL1RnSmIyaElkdDlKdGh4aVdBPT0%3D--53831badfa62a1311493acc9f9522bcd55172cfb; magoosh_logged_in=true; ab_identity=sApr_yQzHjDlSe1LEVa3FTHi_EsPdkOIpCZsiljK; _magoosh_app_session=VkFRUU12amxhUElLQkhzVVZwNytjdVJid1Q3KzdmMUp2LzY2VWdqdGQ1RDczYU1mbnJ5M0NmSWJrME94ckMxTHMwbWVmMDlTM0VWRjFNS01tOUFuSzR4dVFPdkNjeU43d2JDblBmckZ6QWxiOFJVMlo2U1FRN3EzdzJWOG5Nd2hnTkVCbFVucVNZbERkbm5oMVRaR25BPT0tLTRDSlBrcjJLajFIYnh0bnlNVGNzaUE9PQ%3D%3D--ef08317d7a63e6fd21ff312cb3037fa11c6eb3da; tzoffset=-330; __stripe_mid=264e0d46-f5a7-495a-9aad-33b5fcf4eefab9cfc2; login_at=STAwUTRJby9SdDY1QUtUK2tQK3ZwbUtjT2hxeWVXYWg5eFdOaksxc29oWT0tLWdneUdpcngxc1FSL0hWSHFqQzErTUE9PQ%3D%3D--6f108e9d81f4b0107ff7387e2cce279acf7bb2e4; __zlcmid=173kTpvhLPdMc0h; intercom-session-1p9p4oek=Ny9URWRxU1Ftc3IrblNHV011VkE3dnFMaWV5OGxXdEl6bi8vV0g5cUZuQ2V0bkc0eSt1N0ZGZURIY3BXYUdFay0tSmRYS2YwNlFnUVltakJiRVN4R0dKQT09--7e66c14e2836e0d341095b6c64278a780ae61952\"\n",
    "c_text = COOKIES.split(\";\")\n",
    "cookies = {}\n",
    "for i in c_text:\n",
    "    a, b = map(lambda x: x.strip(), i.split(\"=\"))\n",
    "    cookies[a] = b\n",
    "\n",
    "url = \"https://gre.magoosh.com/lessons/96-special-right-triangles\"\n",
    "req = requests.get(url, cookies=cookies)\n",
    "soup = BeautifulSoup(req.text, \"html.parser\")"
   ]
  },
  {
   "cell_type": "code",
   "execution_count": 12,
   "id": "3b8535c5",
   "metadata": {},
   "outputs": [],
   "source": [
    "ROOT_URL = \"https://gre.magoosh.com\"\n",
    "ultimatum = {}"
   ]
  },
  {
   "cell_type": "code",
   "execution_count": 25,
   "id": "7380e7f9",
   "metadata": {},
   "outputs": [
    {
     "data": {
      "text/plain": [
       "[{'src': 'https://d296n67kxwq0ge.cloudfront.net/audio_video/962151a2cbfebcba0e02f426893f2e01097214ee-video-16129/web_webm.webm',\n",
       "  'type': 'video/webm'},\n",
       " {'src': 'https://d296n67kxwq0ge.cloudfront.net/audio_video/962151a2cbfebcba0e02f426893f2e01097214ee-video-16129/web.mp4',\n",
       "  'type': 'video/mp4'}]"
      ]
     },
     "execution_count": 25,
     "metadata": {},
     "output_type": "execute_result"
    }
   ],
   "source": [
    "t = json.loads(soup.select(\"html > body > div > div > div > div > div\")[0][\"data-react-props\"])\n",
    "src = t[\"options\"][\"sources\"]\n",
    "src"
   ]
  },
  {
   "cell_type": "code",
   "execution_count": 15,
   "id": "e5bcf029",
   "metadata": {},
   "outputs": [
    {
     "data": {
      "text/plain": [
       "'html > body > div > div > div > div > div'"
      ]
     },
     "execution_count": 15,
     "metadata": {},
     "output_type": "execute_result"
    }
   ],
   "source": [
    "parseCSSSelector(\"html.nontouch body.vsc-initialized div#main-content div.bg-two-tone div.section.lessons-page.lessons-grid.container div.video-cell.bg-white div\")"
   ]
  },
  {
   "cell_type": "code",
   "execution_count": 9,
   "id": "031c8853",
   "metadata": {},
   "outputs": [],
   "source": [
    "def getMedia(url, lec_name, sema4=None):\n",
    "    try:\n",
    "        print(url)\n",
    "        req = requests.get(url)\n",
    "        cssSel = \"img\"\n",
    "        tmp = BeautifulSoup(req.text, \"html.parser\").select(cssSel)\n",
    "        print(tmp)\n",
    "        for i in tmp[1:]:\n",
    "            print(i)\n",
    "            if lec_name == ((i.parent.parent.select(\"h3\")[0].getText())):\n",
    "                i_url = (i[\"src\"])\n",
    "                m_url = \"/\".join(i_url.split(\"/\")[:-1]) + \"/web_webm.webm\"\n",
    "                print(m_url)\n",
    "        sema4.release() if sema4 else None\n",
    "    except Exception as e:\n",
    "        print(e)"
   ]
  }
 ],
 "metadata": {
  "interpreter": {
   "hash": "ac59ebe37160ed0dfa835113d9b8498d9f09ceb179beaac4002f036b9467c963"
  },
  "kernelspec": {
   "display_name": "Python 3.9.6 64-bit",
   "name": "python3"
  },
  "language_info": {
   "codemirror_mode": {
    "name": "ipython",
    "version": 3
   },
   "file_extension": ".py",
   "mimetype": "text/x-python",
   "name": "python",
   "nbconvert_exporter": "python",
   "pygments_lexer": "ipython3",
   "version": "3.9.6"
  }
 },
 "nbformat": 4,
 "nbformat_minor": 5
}
