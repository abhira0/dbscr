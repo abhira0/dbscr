{
 "cells": [
  {
   "cell_type": "code",
   "execution_count": 27,
   "id": "74704a29",
   "metadata": {},
   "outputs": [],
   "source": [
    "import requests, json\n",
    "from pyrhd import Utils as UTL\n",
    "from bs4 import BeautifulSoup\n",
    "import bs4.element as Ele\n",
    "from threading import BoundedSemaphore\n",
    "parseCSSSelector = UTL.bs4.parseCSSSelector\n",
    "sourceCode= UTL.requests.sourceCode\n",
    "ROOT_URL = \"https://gre.magoosh.com\"\n",
    "ultimatum = {}"
   ]
  },
  {
   "cell_type": "code",
   "execution_count": 26,
   "id": "624c1b6e",
   "metadata": {},
   "outputs": [],
   "source": [
    "url = \"https://gre.magoosh.com/lessons/1391-mental-math-gre-estimation\"\n",
    "COOKIES = \"user_id=YUFMU1lOck5oUkNsQlIzay92eHI2QT09LS0xeUtBL1RnSmIyaElkdDlKdGh4aVdBPT0%3D--53831badfa62a1311493acc9f9522bcd55172cfb; magoosh_logged_in=true; ab_identity=sApr_yQzHjDlSe1LEVa3FTHi_EsPdkOIpCZsiljK; _magoosh_app_session=Z0VSNmpEL3R2UmRmT25VZ3h3ZmI1NSttbGFhemJ3aTVJb2g1ZTJISG5jRjVKMmU3aE8zUDd4Wkt5Q1FOcy9leC8ydlZMQmF4bU9kaDMvdS9NUzhMMlptck1Ic1JoOWhpRzg2eDhpTkh1N2pQWGFrRmxRazlLMXJaay83SXB1VENOV0hGcll4SGU0UFB2R21yV0d6ZVNRPT0tLUovR01tNTVhcW15VERDY3pYNk5wcnc9PQ%3D%3D--63e929946feb82b0a9a7f832b63890a537618d1b; tzoffset=-330; __stripe_mid=264e0d46-f5a7-495a-9aad-33b5fcf4eefab9cfc2; login_at=STAwUTRJby9SdDY1QUtUK2tQK3ZwbUtjT2hxeWVXYWg5eFdOaksxc29oWT0tLWdneUdpcngxc1FSL0hWSHFqQzErTUE9PQ%3D%3D--6f108e9d81f4b0107ff7387e2cce279acf7bb2e4; __zlcmid=173kTpvhLPdMc0h; intercom-session-1p9p4oek=Ny9URWRxU1Ftc3IrblNHV011VkE3dnFMaWV5OGxXdEl6bi8vV0g5cUZuQ2V0bkc0eSt1N0ZGZURIY3BXYUdFay0tSmRYS2YwNlFnUVltakJiRVN4R0dKQT09--7e66c14e2836e0d341095b6c64278a780ae61952; __stripe_sid=64338176-5c06-4f52-8097-c92711bb95414850c0\"\n",
    "c_text = COOKIES.split(\";\")\n",
    "cookies = {}\n",
    "for i in c_text:\n",
    "    a, b = map(lambda x: x.strip(), i.split(\"=\"))\n",
    "    cookies[a] = b\n",
    "req = requests.get(url, cookies=cookies)"
   ]
  },
  {
   "cell_type": "code",
   "execution_count": 28,
   "id": "6c470d24",
   "metadata": {},
   "outputs": [],
   "source": [
    "soup = BeautifulSoup(req.text, \"html.parser\")"
   ]
  },
  {
   "cell_type": "code",
   "execution_count": 29,
   "id": "7380e7f9",
   "metadata": {},
   "outputs": [
    {
     "data": {
      "text/plain": [
       "[{'src': 'https://d296n67kxwq0ge.cloudfront.net/audio_video/b479ccc4ad4e1c62e3f5ac0023819fc7bbf3d7eb-video-5982/web_webm.webm',\n",
       "  'type': 'video/webm'},\n",
       " {'src': 'https://d296n67kxwq0ge.cloudfront.net/audio_video/b479ccc4ad4e1c62e3f5ac0023819fc7bbf3d7eb-video-5982/web.mp4',\n",
       "  'type': 'video/mp4'}]"
      ]
     },
     "execution_count": 29,
     "metadata": {},
     "output_type": "execute_result"
    }
   ],
   "source": [
    "\n",
    "t = json.loads(soup.select(\"html > body > div > div > div > div > div\")[0][\"data-react-props\"])\n",
    "src = t[\"options\"][\"sources\"]\n",
    "src"
   ]
  },
  {
   "cell_type": "code",
   "execution_count": 15,
   "id": "e5bcf029",
   "metadata": {},
   "outputs": [
    {
     "data": {
      "text/plain": [
       "'html > body > div > div > div > div > div'"
      ]
     },
     "execution_count": 15,
     "metadata": {},
     "output_type": "execute_result"
    }
   ],
   "source": []
  },
  {
   "cell_type": "code",
   "execution_count": 9,
   "id": "031c8853",
   "metadata": {},
   "outputs": [],
   "source": [
    "x = UTL.requests.sourceCode(req, \"html > body > div > div > div > div > div\")[0][\"data-react-props\"]\n",
    "x = json.loads(x)\n",
    "st_url = m_url = None\n",
    "for i in x[\"options\"][\"sources\"]:\n",
    "    if i[\"type\"]==\"video/mp4\":\n",
    "        m_url = i[\"src\"]\n",
    "if m_url == None:\n",
    "    for i in x[\"options\"][\"sources\"]:\n",
    "        if i[\"type\"]==\"video/webm\":\n",
    "            m_url = i[\"src\"]\n",
    "for i in x[\"options\"][\"tracks\"]:\n",
    "    if i['label']==\"English\":\n",
    "        st_url = i['src']\n",
    "print(st_url , m_url)"
   ]
  }
 ],
 "metadata": {
  "interpreter": {
   "hash": "ac59ebe37160ed0dfa835113d9b8498d9f09ceb179beaac4002f036b9467c963"
  },
  "kernelspec": {
   "display_name": "Python 3.9.6 64-bit",
   "name": "python3"
  },
  "language_info": {
   "codemirror_mode": {
    "name": "ipython",
    "version": 3
   },
   "file_extension": ".py",
   "mimetype": "text/x-python",
   "name": "python",
   "nbconvert_exporter": "python",
   "pygments_lexer": "ipython3",
   "version": "3.9.6"
  }
 },
 "nbformat": 4,
 "nbformat_minor": 5
}
