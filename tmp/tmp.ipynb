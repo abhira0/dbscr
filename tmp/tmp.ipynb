{
 "cells": [
  {
   "cell_type": "code",
   "execution_count": 3,
   "id": "74704a29",
   "metadata": {},
   "outputs": [],
   "source": [
    "import requests, json\n",
    "from pyrhd import Utils as UTL\n",
    "from bs4 import BeautifulSoup\n",
    "import bs4.element as Ele\n",
    "from threading import BoundedSemaphore\n",
    "parseCSSSelector = UTL.bs4.parseCSSSelector\n",
    "sourceCode= UTL.requests.sourceCode\n",
    "ROOT_URL = \"https://gre.magoosh.com\"\n",
    "ultimatum = {}"
   ]
  }
 ],
 "metadata": {
  "interpreter": {
   "hash": "ac59ebe37160ed0dfa835113d9b8498d9f09ceb179beaac4002f036b9467c963"
  },
  "kernelspec": {
   "display_name": "Python 3.9.6 64-bit",
   "name": "python3"
  },
  "language_info": {
   "codemirror_mode": {
    "name": "ipython",
    "version": 3
   },
   "file_extension": ".py",
   "mimetype": "text/x-python",
   "name": "python",
   "nbconvert_exporter": "python",
   "pygments_lexer": "ipython3",
   "version": "3.9.6"
  }
 },
 "nbformat": 4,
 "nbformat_minor": 5
}
