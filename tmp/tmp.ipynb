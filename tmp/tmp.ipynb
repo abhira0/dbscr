{
 "cells": [
  {
   "cell_type": "code",
   "execution_count": 126,
   "id": "74704a29",
   "metadata": {},
   "outputs": [],
   "source": [
    "import requests, json\n",
    "from pyrhd import Utils as UTL\n",
    "from bs4 import BeautifulSoup\n",
    "import bs4.element as Ele\n",
    "from threading import BoundedSemaphore\n",
    "parseCSSSelector = UTL.bs4.parseCSSSelector\n",
    "sourceCode= UTL.requests.sourceCode"
   ]
  },
  {
   "cell_type": "code",
   "execution_count": 4,
   "id": "624c1b6e",
   "metadata": {},
   "outputs": [],
   "source": [
    "url = \"https://gre.magoosh.com/lessons?section=53\"\n",
    "\n",
    "req = requests.get(url)\n",
    "ultimatum = {}"
   ]
  },
  {
   "cell_type": "code",
   "execution_count": 5,
   "id": "3b8535c5",
   "metadata": {},
   "outputs": [],
   "source": [
    "soup = BeautifulSoup(req.text, \"html.parser\")\n",
    "ROOT_URL = \"https://gre.magoosh.com\""
   ]
  },
  {
   "cell_type": "code",
   "execution_count": 27,
   "id": "031c8853",
   "metadata": {},
   "outputs": [],
   "source": [
    "def getMedias(url, lec_name, sema4):\n",
    "    try:\n",
    "        req = requests.get(url, header)\n",
    "        cssSel = \"img\"\n",
    "        tmp = BeautifulSoup(req.text, \"html.parser\").select(cssSel)\n",
    "        for i in tmp[1:]:\n",
    "            print(i)\n",
    "            if lec_name == ((i.parent.parent.select(\"h3\")[0].getText())):\n",
    "                i_url = (i[\"src\"])\n",
    "                m_url = \"/\".join(i_url.split(\"/\")[:-1]) + \"/web_webm.webm\"\n",
    "                ultimatum[url][\"medias\"].append(m_url)\n",
    "                print(m_url)\n",
    "        sema4.release() if sema4 else None\n",
    "    except Exception as e:\n",
    "        print(e)"
   ]
  },
  {
   "cell_type": "code",
   "execution_count": 16,
   "id": "7f271727",
   "metadata": {},
   "outputs": [
    {
     "name": "stdout",
     "output_type": "stream",
     "text": [
      "https://d296n67kxwq0ge.cloudfront.net/audio_video/c3e42a278e401a9ed90dcafd67ce10f57cfa5c89-video-5981/web_webm.webm\n"
     ]
    }
   ],
   "source": [
    "thr = []\n",
    "sema4 = BoundedSemaphore(20)\n",
    "for lec_url in ultimatum:\n",
    "    sema4.acquire()\n",
    "    lec_name = ultimatum[lec_url][\"name\"]\n",
    "    UTL.threading.createThread(getMedias, [lec_url, lec_name, sema4], thr)\n",
    "    break\n",
    "UTL.threading.joinThreads(thr)"
   ]
  },
  {
   "cell_type": "code",
   "execution_count": 29,
   "id": "75b6e1ef",
   "metadata": {},
   "outputs": [],
   "source": [
    "url = \"https://gre.magoosh.com/lessons/1391-mental-math-gre-estimation\""
   ]
  },
  {
   "cell_type": "code",
   "execution_count": 103,
   "id": "cb8a94aa",
   "metadata": {},
   "outputs": [
    {
     "name": "stdout",
     "output_type": "stream",
     "text": [
      "https://d296n67kxwq0ge.cloudfront.net/captions/web_vtt/1c6430a68d42ec381b5d22fd5a4e5b073d3ccb8e0cfbd65751609f5f8fcbfff0-1684.vtt https://d296n67kxwq0ge.cloudfront.net/audio_video/b479ccc4ad4e1c62e3f5ac0023819fc7bbf3d7eb-video-5982/web.mp4\n"
     ]
    }
   ],
   "source": [
    "x = UTL.requests.sourceCode(r, \"html > body > div > div > div > div > div\")[0][\"data-react-props\"]\n",
    "x = json.loads(x)\n",
    "st_url = m_url = None\n",
    "for i in x[\"options\"][\"sources\"]:\n",
    "    if i[\"type\"]==\"video/mp4\":\n",
    "        m_url = i[\"src\"]\n",
    "if m_url == None:\n",
    "    for i in x[\"options\"][\"sources\"]:\n",
    "        if i[\"type\"]==\"video/webm\":\n",
    "            m_url = i[\"src\"]\n",
    "for i in x[\"options\"][\"tracks\"]:\n",
    "    if i['label']==\"English\":\n",
    "        st_url = i['src']\n",
    "print(st_url , m_url)"
   ]
  },
  {
   "cell_type": "code",
   "execution_count": 106,
   "id": "4d35a1bc",
   "metadata": {},
   "outputs": [],
   "source": [
    "url = \"https://gre.magoosh.com/lessons?section=53\"\n",
    "ctxt = \"user_id=YUFMU1lOck5oUkNsQlIzay92eHI2QT09LS0xeUtBL1RnSmIyaElkdDlKdGh4aVdBPT0%3D--53831badfa62a1311493acc9f9522bcd55172cfb; magoosh_logged_in=true; ab_identity=sApr_yQzHjDlSe1LEVa3FTHi_EsPdkOIpCZsiljK; _magoosh_app_session=WVdKOUQ4SkZoTDNXK2J0bDFtVlNaNlV5TXF2VmdIMWVPdENuakZXdHJ6WlB3alVIc3ZOS29idTAzcFJXN1QzR1pLaS9NcmUwRmVMbXRLcE1CSlZualVweDQ5MWZuSEJDRjE4YTJuaDVnTDFMN2lTOFI2V0poTFJrOUVTcm9xWVI5ai9sQk5nZ0ZOY0JKd29ZeVJYNkNBPT0tLXVFT0EvbjFGbWQyVTYyNkVHR09BUnc9PQ%3D%3D--99d913867cd677f88137ce10b1ec12b1379a2c7d; tzoffset=-330; __stripe_mid=264e0d46-f5a7-495a-9aad-33b5fcf4eefab9cfc2; login_at=STAwUTRJby9SdDY1QUtUK2tQK3ZwbUtjT2hxeWVXYWg5eFdOaksxc29oWT0tLWdneUdpcngxc1FSL0hWSHFqQzErTUE9PQ%3D%3D--6f108e9d81f4b0107ff7387e2cce279acf7bb2e4; __zlcmid=173kTpvhLPdMc0h; intercom-session-1p9p4oek=ek52a2pVa29UMVlFdmRMb0tDS3N5S1BJaHl1N1o0QXVmcE9CSUl6VFREMVgvbHVRaS9YVG16M2Y2YVUxMC9WNy0tempuN2RYV0FoUFR6K3pwRHI0b3lMdz09--c4f0ca050572ea9e9494dc8424a47c347b40627b; __stripe_sid=bc792aa5-c147-449c-82a1-bf2421039e5639f64e\"\n",
    "r = requests.get(url, cookies=getCookies(ctxt))"
   ]
  },
  {
   "cell_type": "code",
   "execution_count": 145,
   "id": "2ff80305",
   "metadata": {},
   "outputs": [
    {
     "data": {
      "text/plain": [
       "'html > body > div > div > div > div'"
      ]
     },
     "execution_count": 145,
     "metadata": {},
     "output_type": "execute_result"
    }
   ],
   "source": [
    "x = \"html.nontouch body.bg-white.vsc-initialized div#main-content div.container div.row.u-padding-B-l div.col-sm-6\"\n",
    "parseCSSSelector(x)"
   ]
  },
  {
   "cell_type": "code",
   "execution_count": 177,
   "id": "cc6bf1d5",
   "metadata": {},
   "outputs": [
    {
     "name": "stdout",
     "output_type": "stream",
     "text": [
      "\n",
      "\n",
      "\n",
      "\n",
      "\n",
      "\n"
     ]
    }
   ],
   "source": [
    "hds = sourceCode(r, \"html > body > div > div > div > div.col-sm-6\")\n",
    "ultimatum = {}\n",
    "chapter_name = None\n",
    "for i in hds:\n",
    "    i: Ele = i\n",
    "    for j in (i.children):\n",
    "        if str(j).startswith(\"<h4\"):\n",
    "            chapter_name = j.getText()\n",
    "            ...\n",
    "        elif str(j).startswith(\"<ul\"):\n",
    "            for k in j.select(\"div.lesson-item\"):\n",
    "                lecture_name = \" ~ \".join(k.select_one(\"a\").getText().strip().split(\"\\n\"))\n",
    "                lecture_url = ROOT_URL +  k.select_one(\"a\")[\"href\"]\n",
    "                ultimatum[chapter_name] = ultimatum.get(chapter_name, {})\n",
    "                tmp = ultimatum[chapter_name].get(lecture_url, {\"name\":lecture_name})\n",
    "                ultimatum[chapter_name][lecture_url] = tmp"
   ]
  },
  {
   "cell_type": "code",
   "execution_count": 181,
   "id": "bcea9d7d",
   "metadata": {},
   "outputs": [
    {
     "data": {
      "text/plain": [
       "'html > body > div > div > div > div > a'"
      ]
     },
     "execution_count": 181,
     "metadata": {},
     "output_type": "execute_result"
    }
   ],
   "source": [
    "parseCSSSelector(\"html.nontouch body.bg-white.vsc-initialized div#main-content div.container div.d-flex.flex-row.justify-content-around.flex-wrap.u-margin-T-m div.text-center.u-margin-B-s.lesson-section-name a.btn.btn-pill.u-padding-H-m.btn-default\")"
   ]
  },
  {
   "cell_type": "code",
   "execution_count": 187,
   "id": "0b982bab",
   "metadata": {},
   "outputs": [
    {
     "data": {
      "text/plain": [
       "{'Intro': {'s_url': 'https://gre.magoosh.com/lessons?section=85'},\n",
       " 'Math': {'s_url': 'https://gre.magoosh.com/lessons?section=53'},\n",
       " 'Verbal': {'s_url': 'https://gre.magoosh.com/lessons?section=54'},\n",
       " 'Writing': {'s_url': 'https://gre.magoosh.com/lessons?section=63'}}"
      ]
     },
     "execution_count": 187,
     "metadata": {},
     "output_type": "execute_result"
    }
   ],
   "source": [
    "sections_css = \"html > body > div > div > div > div > a\"\n",
    "sections = sourceCode(req, sections_css)\n",
    "sections = {i.getText().strip():{\"s_url\":ROOT_URL + i[\"href\"]} for i in sections}"
   ]
  },
  {
   "cell_type": "code",
   "execution_count": null,
   "id": "d6288667",
   "metadata": {},
   "outputs": [],
   "source": []
  }
 ],
 "metadata": {
  "interpreter": {
   "hash": "ac59ebe37160ed0dfa835113d9b8498d9f09ceb179beaac4002f036b9467c963"
  },
  "kernelspec": {
   "display_name": "Python 3.9.6 64-bit",
   "name": "python3"
  },
  "language_info": {
   "codemirror_mode": {
    "name": "ipython",
    "version": 3
   },
   "file_extension": ".py",
   "mimetype": "text/x-python",
   "name": "python",
   "nbconvert_exporter": "python",
   "pygments_lexer": "ipython3",
   "version": "3.9.6"
  }
 },
 "nbformat": 4,
 "nbformat_minor": 5
}
